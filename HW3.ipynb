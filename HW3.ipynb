{
  "metadata": {
    "language_info": {
      "codemirror_mode": {
        "name": "python",
        "version": 3
      },
      "file_extension": ".py",
      "mimetype": "text/x-python",
      "name": "python",
      "nbconvert_exporter": "python",
      "pygments_lexer": "ipython3",
      "version": "3.8"
    },
    "kernelspec": {
      "name": "python",
      "display_name": "Python (Pyodide)",
      "language": "python"
    }
  },
  "nbformat_minor": 4,
  "nbformat": 4,
  "cells": [
    {
      "cell_type": "code",
      "source": "def score(name):\n    marks = {'Andy': 88, 'Amy': 66, 'James': 90, 'Jules': 55, 'Arthur': 77}\n\n    for key, value in marks.items():\n        if key == name:\n            return value\n    return \"Cannot find this student's name\"\n\nif __name__ == \"__main__\":\n    name = 'Andy'\n    print(score(name))\n",
      "metadata": {
        "trusted": true
      },
      "execution_count": 35,
      "outputs": [
        {
          "name": "stdout",
          "text": "88\n",
          "output_type": "stream"
        }
      ]
    },
    {
      "cell_type": "code",
      "source": "def Average(l): \n    avg = sum(l) / len(l) \n    return avg\n  \ngrades = [88,66,90,55,77] \naverage = Average(grades) \n  \nprint(average)\n",
      "metadata": {
        "trusted": true
      },
      "execution_count": 56,
      "outputs": [
        {
          "name": "stdout",
          "text": "75.2\n",
          "output_type": "stream"
        }
      ]
    },
    {
      "cell_type": "code",
      "source": "def printout(num):\n    n=0\n    while n<num:\n        print(n,n**2)\n        n+=1\n        \nprintout(8)",
      "metadata": {
        "trusted": true
      },
      "execution_count": 58,
      "outputs": [
        {
          "name": "stdout",
          "text": "0 0\n1 1\n2 4\n3 9\n4 16\n5 25\n6 36\n7 49\n",
          "output_type": "stream"
        }
      ]
    },
    {
      "cell_type": "code",
      "source": "def whileSum(num):\n    n=1\n    sum=0\n    while n<=num:\n        sum=sum+n\n        n+=1\n    print(sum)\nwhileSum(8)",
      "metadata": {
        "trusted": true
      },
      "execution_count": 68,
      "outputs": [
        {
          "name": "stdout",
          "text": "36\n",
          "output_type": "stream"
        }
      ]
    },
    {
      "cell_type": "code",
      "source": "def forSum(num):\n    sum=0\n    for n in range(num):\n        print(sum)\n        sum=sum+n\nforSum(8)",
      "metadata": {
        "trusted": true
      },
      "execution_count": 81,
      "outputs": [
        {
          "name": "stdout",
          "text": "0\n0\n1\n3\n6\n10\n15\n21\n",
          "output_type": "stream"
        }
      ]
    },
    {
      "cell_type": "code",
      "source": "import statistics\nn=100\ndata1 = range(1,n+1)\n \nx = statistics.mean(data1)\ny = sum(data1)\nz = statistics.pvariance(data1)\n\nprint(x,y,z)",
      "metadata": {
        "trusted": true
      },
      "execution_count": 100,
      "outputs": [
        {
          "name": "stdout",
          "text": "50.5 5050 833.25\n",
          "output_type": "stream"
        }
      ]
    },
    {
      "cell_type": "code",
      "source": "def Min(v1,v2,v3,v4):\n    min_value=v1\n    if v2<min_value:\n        min_value=v2\n    if v3<min_value:\n        min_value=v3\n    if v4<min_value:\n        min_value=v4\n    return min_value\n\nMin(5,6,8,4)\n    ",
      "metadata": {
        "trusted": true
      },
      "execution_count": 104,
      "outputs": [
        {
          "execution_count": 103,
          "output_type": "execute_result",
          "data": {
            "text/plain": "4"
          },
          "metadata": {}
        }
      ]
    },
    {
      "cell_type": "code",
      "source": "def calendar(a,b,c):\n    date=a\n    month=b\n    year=c\n    word=(f\"today is {date}.{month}.{year}\")\n\n    return word\n\ncalendar(10, \"oct\",2022)",
      "metadata": {
        "trusted": true
      },
      "execution_count": 123,
      "outputs": [
        {
          "execution_count": 122,
          "output_type": "execute_result",
          "data": {
            "text/plain": "'today is 10.oct.2022'"
          },
          "metadata": {}
        }
      ]
    },
    {
      "cell_type": "code",
      "source": "",
      "metadata": {},
      "execution_count": null,
      "outputs": []
    }
  ]
}